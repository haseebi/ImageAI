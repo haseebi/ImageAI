{
 "cells": [
  {
   "cell_type": "code",
   "execution_count": null,
   "metadata": {},
   "outputs": [
    {
     "name": "stderr",
     "output_type": "stream",
     "text": [
      "Using TensorFlow backend.\n"
     ]
    }
   ],
   "source": [
    "import tensorflow as tf\n",
    "from tensorflow import keras\n",
    "from keras.models import load_model\n",
    "from keras.preprocessing import image\n",
    "import numpy as np\n",
    "model=tf.keras.models.load_model('2.h5')"
   ]
  },
  {
   "cell_type": "code",
   "execution_count": null,
   "metadata": {},
   "outputs": [],
   "source": [
    "# load the model we saved\n",
    "model = load_model('model.h5')\n",
    "model.compile(loss='binary_crossentropy',\n",
    "              optimizer='rmsprop',\n",
    "              metrics=['accuracy'])\n"
   ]
  },
  {
   "cell_type": "code",
   "execution_count": null,
   "metadata": {},
   "outputs": [],
   "source": [
    "import cv2\n",
    "import matplotlib.pyplot as plt\n",
    "img_array = cv2.imread('30.jpg')  # convert to array\n",
    "# img_array=img_array.reshape([-1,224,244,3])\n",
    "\n",
    "img_rgb = cv2.cvtColor(img_array, cv2.COLOR_BGR2RGB)\n",
    "# img_rgb = img_rgb.reshape([-1, 224, 224, 3])\n",
    "# img_rgb = cv2.resize(img_rgb,(224,224),3)\n",
    "# plt.imshow(img_rgb)  # graph it\n",
    "# plt.show()\n",
    "# model.predict(img_rgb)\n",
    "# img_array = np.expand_dims(img_array, axis=-1)\n",
    "img_rgb = cv2.resize(img_rgb,(224,224),3)  # resize\n",
    "img_rgb = np.array(img_rgb).astype(np.float32)/255.0  # scaling\n",
    "img_rgb = np.expand_dims(img_rgb, axis=0)  # expand dimension\n",
    "print(model.predict(img_rgb))\n",
    "\n",
    "classes = model.predict(img_rgb, batch_size=10)\n",
    "\n",
    "# print the classes, the images belong to\n",
    "print(classes)"
   ]
  }
 ],
 "metadata": {
  "kernelspec": {
   "display_name": "Python 3",
   "language": "python",
   "name": "python3"
  },
  "language_info": {
   "codemirror_mode": {
    "name": "ipython",
    "version": 3
   },
   "file_extension": ".py",
   "mimetype": "text/x-python",
   "name": "python",
   "nbconvert_exporter": "python",
   "pygments_lexer": "ipython3",
   "version": "3.6.8"
  }
 },
 "nbformat": 4,
 "nbformat_minor": 2
}
